{
  "cells": [
    {
      "cell_type": "code",
      "execution_count": 3,
      "metadata": {
        "id": "7GvMv0Adkj1I"
      },
      "outputs": [],
      "source": [
        "import numpy as np\n",
        "\n",
        "## load data\n",
        "data = np.loadtxt(\"./data/logistic_r.txt\", delimiter=\",\")\n",
        "X, y = data[:, 0:2], data[:, 2]\n",
        "m, n = X.shape\n",
        "\n",
        "## expand dimention for theta0\n",
        "X = np.concatenate([np.ones((m, 1)), X], axis=1)"
      ]
    },
    {
      "cell_type": "code",
      "execution_count": 4,
      "metadata": {
        "id": "SetmUbHLohlc"
      },
      "outputs": [],
      "source": [
        "## sigmod\n",
        "def sigmoid(z):\n",
        "  g = 1 / (1 + np.exp(-z));\n",
        "  return g"
      ]
    },
    {
      "cell_type": "code",
      "execution_count": 5,
      "metadata": {
        "colab": {
          "base_uri": "https://localhost:8080/"
        },
        "id": "wTaS1UVJoo2Y",
        "outputId": "2e5294fb-1600-4b6b-96f1-9546f4912634"
      },
      "outputs": [
        {
          "name": "stdout",
          "output_type": "stream",
          "text": [
            "[0.5        0.73105858]\n"
          ]
        }
      ],
      "source": [
        "## test -> sigmod\n",
        "g = sigmoid(np.array([0, 1]))\n",
        "print(g)"
      ]
    },
    {
      "cell_type": "code",
      "execution_count": 6,
      "metadata": {
        "id": "ysPoTXxH0I7o"
      },
      "outputs": [],
      "source": [
        "## Cost Function\n",
        "def costFunction(theta, X, y):\n",
        "  m = y.size\n",
        "  c = -1 / m;\n",
        "  h = sigmoid(np.dot(X, theta.transpose()))\n",
        "  cost = 0\n",
        "  grad = np.zeros(theta.shape)\n",
        "  for i in range(m):\n",
        "    cost += (y[i] * np.log(h[i]) + (1 - y[i]) * np.log(1 - h[i]))\n",
        "  cost *= c\n",
        "  \n",
        "  for j in range(X.shape[1]):\n",
        "    tmp = 0\n",
        "    for iter in range(m):\n",
        "      tmp += (h[iter] - y[iter]) * X[iter][j] / m\n",
        "    grad[j] = tmp \n",
        "    \n",
        "  return cost, grad"
      ]
    },
    {
      "cell_type": "code",
      "execution_count": 7,
      "metadata": {
        "colab": {
          "base_uri": "https://localhost:8080/"
        },
        "id": "swFmfyY-2ULA",
        "outputId": "7a336ad4-5a27-4740-a057-d6143fcabebb"
      },
      "outputs": [
        {
          "name": "stdout",
          "output_type": "stream",
          "text": [
            "0.693147180559946\n",
            "\t[-0.1000, -12.0092, -11.2628]\n",
            "0.21833019382659782\n",
            "\t[0.0429, 2.5662, 2.6468]\n"
          ]
        }
      ],
      "source": [
        "## test -> Cost Function\n",
        "theta = np.zeros(3)\n",
        "cost, theta = costFunction(theta, X, y)\n",
        "print(cost)\n",
        "print('\\t[{:.4f}, {:.4f}, {:.4f}]'.format(*theta))\n",
        "test_theta = np.array([-24, 0.2, 0.2])\n",
        "cost, grad = costFunction(test_theta, X, y)\n",
        "print(cost)\n",
        "print('\\t[{:.4f}, {:.4f}, {:.4f}]'.format(*grad))"
      ]
    },
    {
      "cell_type": "code",
      "execution_count": 8,
      "metadata": {
        "colab": {
          "base_uri": "https://localhost:8080/"
        },
        "id": "J-YMHRY2N73x",
        "outputId": "f87ff916-f311-411a-88a4-b39206f65f28"
      },
      "outputs": [
        {
          "name": "stdout",
          "output_type": "stream",
          "text": [
            "Cost at theta found by optimize.minimize: 0.203\n",
            "theta:\n",
            "\t[-25.161, 0.206, 0.201]\n",
            "Expected theta (approx):\n",
            "\t[-25.161, 0.206, 0.201]\n"
          ]
        }
      ],
      "source": [
        "## use scipy minimize\n",
        "from scipy import optimize\n",
        "\n",
        "## max iterater times\n",
        "opts= {'maxiter': 400}\n",
        "theta = np.zeros(3)\n",
        "\n",
        "res = optimize.minimize(costFunction, \n",
        "                        theta,\n",
        "                        (X, y),\n",
        "                        jac=True,\n",
        "                        method='TNC',\n",
        "                        options = opts)\n",
        "cost = res.fun\n",
        "theta_res = res.x\n",
        "print('Cost at theta found by optimize.minimize: {:.3f}'.format(cost))\n",
        "\n",
        "print('theta:')\n",
        "print('\\t[{:.3f}, {:.3f}, {:.3f}]'.format(*theta_res))\n",
        "print('Expected theta (approx):\\n\\t[-25.161, 0.206, 0.201]')"
      ]
    },
    {
      "cell_type": "code",
      "execution_count": 15,
      "metadata": {
        "colab": {
          "base_uri": "https://localhost:8080/",
          "height": 283
        },
        "id": "ioqM21ofWnSa",
        "outputId": "6117aa34-5103-48e1-94ae-d9b9f9327342"
      },
      "outputs": [
        {
          "data": {
            "text/plain": [
              "<matplotlib.legend.Legend at 0x7fab7e860e90>"
            ]
          },
          "execution_count": 15,
          "metadata": {},
          "output_type": "execute_result"
        },
        {
          "data": {
            "image/png": "[encoded data removed]",
            "text/plain": [
              "<Figure size 432x288 with 1 Axes>"
            ]
          },
          "metadata": {
            "needs_background": "light"
          },
          "output_type": "display_data"
        }
      ],
      "source": [
        "# // visualization\n",
        "import matplotlib.pyplot as plt\n",
        "plot_x = np.array([np.min(X[:, 1]), np.max(X[:, 1])])\n",
        "plot_y = -1. / theta_res[2] * (theta_res[0] + theta_res[1] * plot_x)\n",
        "\n",
        "map_color = {0: 'r', 1: 'g'}\n",
        "color = list(map(lambda x: map_color[x], y))\n",
        "plt.scatter(X[:,1], X[:,2],  c=color)\n",
        "plt.scatter([], [], c='g')\n",
        "plt.plot(plot_x, plot_y)\n",
        "plt.legend([\"Decision Boundary\", \"Not admitted\", \"Admitted\"])"
      ]
    }
  ],
  "metadata": {
    "colab": {
      "collapsed_sections": [],
      "name": "Note1:Regression.ipynb",
      "provenance": []
    },
    "kernelspec": {
      "display_name": "Python 3",
      "name": "python3"
    },
    "language_info": {
      "name": "python"
    }
  },
  "nbformat": 4,
  "nbformat_minor": 0
}
