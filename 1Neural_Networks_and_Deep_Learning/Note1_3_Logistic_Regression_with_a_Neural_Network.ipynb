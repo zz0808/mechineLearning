{
  "nbformat": 4,
  "nbformat_minor": 0,
  "metadata": {
    "colab": {
      "name": "Note_5_2_Logistic_Regression_with_a_Neural_Network.ipynb",
      "provenance": [],
      "collapsed_sections": []
    },
    "kernelspec": {
      "name": "python3",
      "display_name": "Python 3"
    },
    "language_info": {
      "name": "python"
    }
  },
  "cells": [
    {
      "cell_type": "code",
      "execution_count": null,
      "metadata": {
        "id": "Yv2QYJDLiZ6x"
      },
      "outputs": [],
      "source": [
        "import numpy as np\n",
        "import matplotlib.pyplot as plt\n",
        "import h5py\n",
        "import scipy\n",
        "from PIL import Image\n",
        "from scipy import ndimage\n",
        "from lr_utils import load_dataset"
      ]
    },
    {
      "cell_type": "code",
      "source": [
        "train_set_x_orig, train_set_y, test_set_x_orig, test_set_y, classes = load_dataset()"
      ],
      "metadata": {
        "id": "844Ksl08js7c"
      },
      "execution_count": 8,
      "outputs": []
    },
    {
      "cell_type": "code",
      "source": [
        "index =10\n",
        "plt.imshow(train_set_x_orig[index])\n",
        "print (\"y = \" + str(train_set_y[0, index]) + \", it's a '\" + classes[np.squeeze(train_set_y[:, index])].decode(\"utf-8\") +  \"' picture.\")"
      ],
      "metadata": {
        "colab": {
          "base_uri": "https://localhost:8080/",
          "height": 286
        },
        "id": "SgebH-eEm_Or",
        "outputId": "bc5a2eb0-65c1-4166-ff2b-2535c89541f8"
      },
      "execution_count": 9,
      "outputs": [
        {
          "output_type": "stream",
          "name": "stdout",
          "text": [
            "y = 0, it's a 'non-cat' picture.\n"
          ]
        },
        {
          "output_type": "display_data",
          "data": {
            "text/plain": [
              "<Figure size 432x288 with 1 Axes>"
            ],
            "image/png": "[encoded data removed]"
          },
          "metadata": {
            "needs_background": "light"
          }
        }
      ]
    },
    {
      "cell_type": "code",
      "source": [
        "m_train = train_set_x_orig.shape[0]\n",
        "m_test = test_set_x_orig.shape[0]\n",
        "num_px = train_set_x_orig.shape[1]\n",
        "print(\"m_train\", m_train)\n",
        "print(\"m_test\", m_test)\n",
        "print(\"num_px\", num_px)\n",
        "print(\"shape of pic\", train_set_x_orig.shape)"
      ],
      "metadata": {
        "colab": {
          "base_uri": "https://localhost:8080/"
        },
        "id": "YTf9R9oFnTb3",
        "outputId": "1b247797-be41-448c-af59-a5fb3b2400a4"
      },
      "execution_count": 14,
      "outputs": [
        {
          "output_type": "stream",
          "name": "stdout",
          "text": [
            "m_train 209\n",
            "m_test 50\n",
            "num_px 64\n",
            "shape of pic (209, 64, 64, 3)\n"
          ]
        }
      ]
    },
    {
      "cell_type": "code",
      "source": [
        "train_set_x_flatten = train_set_x_orig.reshape(train_set_x_orig.shape[1] *\n",
        "                                               train_set_x_orig.shape[2] *\n",
        "                                               train_set_x_orig.shape[3], \n",
        "                                               m_train)\n",
        "test_set_x_flatten = test_set_x_orig.reshape(test_set_x_orig.shape[1] *\n",
        "                                               test_set_x_orig.shape[2] *\n",
        "                                               test_set_x_orig.shape[3], \n",
        "                                               m_test)\n",
        "\n",
        "print(\"train_set_x_flatten shape\", train_set_x_flatten.shape)\n",
        "print(\"test_set_x_flatten shape\", test_set_x_flatten.shape)\n"
      ],
      "metadata": {
        "colab": {
          "base_uri": "https://localhost:8080/"
        },
        "id": "oNBV-Ilbn5rp",
        "outputId": "e100c10b-9598-49d4-a488-143416b68f70"
      },
      "execution_count": 17,
      "outputs": [
        {
          "output_type": "stream",
          "name": "stdout",
          "text": [
            "train_set_x_flatten shape (12288, 209)\n",
            "test_set_x_flatten shape (12288, 50)\n"
          ]
        }
      ]
    },
    {
      "cell_type": "code",
      "source": [
        "train_set_x = train_set_x_flatten / 255.0\n",
        "test_set_x = test_set_x_flatten / 255.0\n"
      ],
      "metadata": {
        "id": "muMf8OYep2kB"
      },
      "execution_count": 20,
      "outputs": []
    },
    {
      "cell_type": "code",
      "source": [
        "def sigmoid(x):\n",
        "  return 1 / (1 + np.exp(-x))\n",
        "\n",
        "print (\"sigmoid([0, 2]) = \" + str(sigmoid(np.array([0,2]))))"
      ],
      "metadata": {
        "colab": {
          "base_uri": "https://localhost:8080/"
        },
        "id": "Zh1VnWzEqSPu",
        "outputId": "7277a853-2764-4eda-e112-1098c16827be"
      },
      "execution_count": 21,
      "outputs": [
        {
          "output_type": "stream",
          "name": "stdout",
          "text": [
            "sigmoid([0, 2]) = [0.5        0.88079708]\n"
          ]
        }
      ]
    },
    {
      "cell_type": "code",
      "source": [
        "# Initializing parameters\n",
        "def initialize_with_zeros(dim):\n",
        "  w = np.zeros((dim, 1))\n",
        "  b = 0\n",
        "  assert(w.shape == (dim, 1))\n",
        "  assert(isinstance(b, float) or isinstance(b, int))\n",
        "\n",
        "  return w, b\n",
        "\n",
        "dim = 2\n",
        "w, b = initialize_with_zeros(dim)\n",
        "print (\"w = \" + str(w))\n",
        "print (\"b = \" + str(b))"
      ],
      "metadata": {
        "colab": {
          "base_uri": "https://localhost:8080/"
        },
        "id": "1rrZHD9bqqpU",
        "outputId": "9a3d8cd7-335e-4bed-ebf9-65f227c77c0a"
      },
      "execution_count": 24,
      "outputs": [
        {
          "output_type": "stream",
          "name": "stdout",
          "text": [
            "w = [[0.]\n",
            " [0.]]\n",
            "b = 0\n"
          ]
        }
      ]
    },
    {
      "cell_type": "code",
      "source": [
        "# Forward and Backward propagation\n",
        "def propagate(w, b, X, y):\n",
        "  m = X.shape[1]\n",
        "  # w : n * 1 X : n * m y = 1 * m\n",
        "  A = sigmoid(np.dot(w.T, X) + b) # 1 * m\n",
        "  cost = -1.0 / m * np.sum(y * np.log(A) + (1 - y) * np.log(1 - A))\n",
        "\n",
        "  dw = np.dot(X, (A - y).T) / m # n * 1\n",
        "  db = np.sum(A - y) / m\n",
        "\n",
        "  grads = {\"dw\" : dw, \"db\" : db}\n",
        "\n",
        "  return grads, cost\n",
        "# test\n",
        "w, b, X, Y = np.array([[1.],[2.]]), 2., np.array([[1.,2.,-1.],[3.,4.,-3.2]]), np.array([[1,0,1]])\n",
        "grads, cost = propagate(w, b, X, Y)\n",
        "print (\"dw = \" + str(grads[\"dw\"]))\n",
        "print (\"db = \" + str(grads[\"db\"]))\n",
        "print (\"cost = \" + str(cost))"
      ],
      "metadata": {
        "colab": {
          "base_uri": "https://localhost:8080/"
        },
        "id": "YmM1700Tq-hC",
        "outputId": "c8d757a1-3012-4a89-dc60-f51b72523876"
      },
      "execution_count": 31,
      "outputs": [
        {
          "output_type": "stream",
          "name": "stdout",
          "text": [
            "dw = [[0.99845601]\n",
            " [2.39507239]]\n",
            "db = 0.001455578136784208\n",
            "cost = 5.801545319394553\n"
          ]
        }
      ]
    },
    {
      "cell_type": "code",
      "source": [
        "# 优化\n",
        "def optimize(w, b, X, Y, num_iterations, learning_rate, print_cost = False):\n",
        "  costs = []\n",
        "\n",
        "  for iter in range(num_iterations):\n",
        "    grads, cost = propagate(w, b, X, Y)\n",
        "\n",
        "    dw = grads[\"dw\"]\n",
        "    db = grads[\"db\"]\n",
        "\n",
        "    w = w - learning_rate * dw\n",
        "    b = b - learning_rate * db\n",
        "    if (iter % 50 == 0):\n",
        "      costs.append(cost)\n",
        "\n",
        "  params = {\"w\": w,\n",
        "          \"b\": b}\n",
        "\n",
        "  grads = {\"dw\": dw,\n",
        "          \"db\": db}\n",
        "\n",
        "  return params, grads, costs\n",
        "\n",
        "params, grads, costs = optimize(w, b, X, Y, num_iterations= 100, learning_rate = 0.009, print_cost = False)\n",
        "print (\"w = \" + str(params[\"w\"]))\n",
        "print (\"b = \" + str(params[\"b\"]))\n",
        "print (\"dw = \" + str(grads[\"dw\"]))\n",
        "print (\"db = \" + str(grads[\"db\"]))\n",
        "\n",
        "import matplotlib.pyplot as plt\n",
        "plt.plot(costs)"
      ],
      "metadata": {
        "colab": {
          "base_uri": "https://localhost:8080/",
          "height": 392
        },
        "id": "MQ-mWLgi2Pux",
        "outputId": "fb2d6840-1905-4e7e-894d-8cacccfcc4bc"
      },
      "execution_count": 42,
      "outputs": [
        {
          "output_type": "stream",
          "name": "stdout",
          "text": [
            "w = [[-0.08608643]\n",
            " [ 0.10971233]]\n",
            "b = -0.1442742664803268\n",
            "dw = [[0.12311093]\n",
            " [0.13629247]]\n",
            "db = -0.14923915884638048\n"
          ]
        },
        {
          "output_type": "execute_result",
          "data": {
            "text/plain": [
              "[<matplotlib.lines.Line2D at 0x7f7e6f1507d0>]"
            ]
          },
          "metadata": {},
          "execution_count": 42
        },
        {
          "output_type": "display_data",
          "data": {
            "text/plain": [
              "<Figure size 432x288 with 1 Axes>"
            ],
            "image/png": "[encoded data removed]"
          },
          "metadata": {
            "needs_background": "light"
          }
        }
      ]
    },
    {
      "cell_type": "code",
      "source": [
        "def predict(w, b, X):\n",
        "  m = X.shape[1]\n",
        "  y_prediction = np.zeros((1, m))\n",
        "  w = w.reshape(X.shape[0], 1)\n",
        "  A = sigmoid(np.dot(w.T, X) + b)\n",
        "\n",
        "  y_prediction = (A >= 0.5) * 1.0\n",
        "  assert(y_prediction.shape == (1, m))\n",
        "\n",
        "  return y_prediction\n",
        "\n",
        "# test\n",
        "w = np.array([[0.1124579],[0.23106775]])\n",
        "b = -0.3\n",
        "X = np.array([[1.,-1.1,-3.2],[1.2,2.,0.1]])\n",
        "print (\"predictions = \" + str(predict(w, b, X)))"
      ],
      "metadata": {
        "colab": {
          "base_uri": "https://localhost:8080/"
        },
        "id": "IkRWxdJk4q2c",
        "outputId": "b88edd5f-45ab-4e53-c1e9-56319d4e4ba3"
      },
      "execution_count": 43,
      "outputs": [
        {
          "output_type": "stream",
          "name": "stdout",
          "text": [
            "predictions = [[1. 1. 0.]]\n"
          ]
        }
      ]
    },
    {
      "cell_type": "code",
      "source": [
        "# Merge all functions into a model\n",
        "def model(X_train, Y_train, X_test, Y_test, num_iterations = 2000, learning_rate = 0.5, print_cost = False):\n",
        "  w, b = initialize_with_zeros(X_train.shape[0])\n",
        "\n",
        "  parameters, gradients, costs = optimize(w, b, X_train, Y_train, num_iterations, learning_rate)\n",
        "\n",
        "  # retrieve paramters\n",
        "  w = parameters[\"w\"]\n",
        "  b = parameters[\"b\"]\n",
        "\n",
        "  # predict on train/test examples\n",
        "  Y_prediction_test = predict(w, b, X_test)\n",
        "  Y_prediction_train = predict(w, b, X_train)\n",
        "\n",
        "  # Print train/test Errors\n",
        "  print(\"train accuracy: {} %\".format(100 - np.mean(np.abs(Y_prediction_train - Y_train)) * 100))\n",
        "  print(\"test accuracy: {} %\".format(100 - np.mean(np.abs(Y_prediction_test - Y_test)) * 100))\n",
        "\n",
        "  \n",
        "  d = {\"costs\": costs,\n",
        "        \"Y_prediction_test\": Y_prediction_test, \n",
        "        \"Y_prediction_train\" : Y_prediction_train, \n",
        "        \"w\" : w, \n",
        "        \"b\" : b,\n",
        "        \"learning_rate\" : learning_rate,\n",
        "        \"num_iterations\": num_iterations}\n",
        "\n",
        "  return d"
      ],
      "metadata": {
        "id": "PtxlsNFC5jY7"
      },
      "execution_count": 44,
      "outputs": []
    },
    {
      "cell_type": "code",
      "source": [
        "d = model(train_set_x, train_set_y, test_set_x, test_set_y, num_iterations = 2000, learning_rate = 0.005, print_cost = False)"
      ],
      "metadata": {
        "colab": {
          "base_uri": "https://localhost:8080/"
        },
        "id": "SA6uebYP9D4R",
        "outputId": "73efa68c-d8a8-4146-f4d1-d9faba941791"
      },
      "execution_count": 45,
      "outputs": [
        {
          "output_type": "stream",
          "name": "stdout",
          "text": [
            "train accuracy: 91.38755980861244 %\n",
            "test accuracy: 34.0 %\n"
          ]
        }
      ]
    },
    {
      "cell_type": "code",
      "source": [
        "# Example of a picture that was wrongly classified.\n",
        "index = 25\n",
        "plt.imshow(test_set_x[:,index].reshape((num_px, num_px, 3)))"
      ],
      "metadata": {
        "colab": {
          "base_uri": "https://localhost:8080/",
          "height": 286
        },
        "id": "XHuwWeWr9Owp",
        "outputId": "a38b3cf3-2886-4db3-c755-1884cb65cacd"
      },
      "execution_count": 46,
      "outputs": [
        {
          "output_type": "execute_result",
          "data": {
            "text/plain": [
              "<matplotlib.image.AxesImage at 0x7f7e6f13b510>"
            ]
          },
          "metadata": {},
          "execution_count": 46
        },
        {
          "output_type": "display_data",
          "data": {
            "text/plain": [
              "<Figure size 432x288 with 1 Axes>"
            ],
            "image/png": "[encoded data removed]"
          },
          "metadata": {
            "needs_background": "light"
          }
        }
      ]
    },
    {
      "cell_type": "code",
      "source": [
        "costs = np.squeeze(d['costs'])\n",
        "plt.plot(costs)\n",
        "plt.ylabel('cost')\n",
        "plt.xlabel('iterations (per 50 iters)')\n",
        "plt.title(\"Learning rate =\" + str(d[\"learning_rate\"]))\n",
        "plt.show()"
      ],
      "metadata": {
        "colab": {
          "base_uri": "https://localhost:8080/",
          "height": 295
        },
        "id": "W4w91Wg99bNP",
        "outputId": "80fd656b-84b3-4f79-b59a-fc7091634fa4"
      },
      "execution_count": 48,
      "outputs": [
        {
          "output_type": "display_data",
          "data": {
            "text/plain": [
              "<Figure size 432x288 with 1 Axes>"
            ],
            "image/png": "[encoded data removed]"
          },
          "metadata": {
            "needs_background": "light"
          }
        }
      ]
    }
  ]
}