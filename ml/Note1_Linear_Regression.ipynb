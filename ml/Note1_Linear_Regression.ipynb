{
  "nbformat": 4,
  "nbformat_minor": 0,
  "metadata": {
    "colab": {
      "name": "Note1:Regression.ipynb",
      "provenance": [],
      "collapsed_sections": []
    },
    "kernelspec": {
      "name": "python3",
      "display_name": "Python 3"
    },
    "language_info": {
      "name": "python"
    }
  },
  "cells": [
    {
      "cell_type": "code",
      "execution_count": 36,
      "metadata": {
        "id": "7GvMv0Adkj1I"
      },
      "outputs": [],
      "source": [
        "import numpy as np\n",
        "\n",
        "## load data\n",
        "data = np.loadtxt(\"./data/lr_data1.txt\", delimiter=\",\")\n",
        "X, y = data[:, 0], data[:, 1]\n",
        "m = X.size\n",
        "## expand dimention for theta0\n",
        "X = np.stack([np.ones(m), X], axis=1)"
      ]
    },
    {
      "cell_type": "code",
      "source": [
        "## compute cost J(theta) of LR\n",
        "def computeCost(X, y, theta):\n",
        "  m = y.size\n",
        "  J = 0;\n",
        "  h = np.dot(X, theta.transpose())\n",
        "  \n",
        "  for i in range(m):\n",
        "    J = J + (1 / (2 * m)) * np.square(h[i] - y[i])\n",
        "\n",
        "  return J"
      ],
      "metadata": {
        "id": "SetmUbHLohlc"
      },
      "execution_count": 37,
      "outputs": []
    },
    {
      "cell_type": "code",
      "source": [
        "## test -> compute cost\n",
        "theta = np.array([-1,2])\n",
        "J = computeCost(X, y, theta)\n",
        "print(\"when theta : [-1, 2], J is\", J)"
      ],
      "metadata": {
        "colab": {
          "base_uri": "https://localhost:8080/"
        },
        "id": "wTaS1UVJoo2Y",
        "outputId": "d567dbda-5c31-4791-ba27-52f8b2ebeec2"
      },
      "execution_count": 38,
      "outputs": [
        {
          "output_type": "stream",
          "name": "stdout",
          "text": [
            "when theta : [-1, 2], J is 54.24245508201239\n"
          ]
        }
      ]
    },
    {
      "cell_type": "code",
      "source": [
        "## Gradient Descent\n",
        "def gradientDescent(X, y, theta, alpha, iters):\n",
        "  theta = theta.copy()\n",
        "  costs = []\n",
        "  m = y.size\n",
        "  n = theta.size\n",
        "  for iter in range(iters):\n",
        "    h = np.dot(X, theta.transpose())\n",
        "    cost = computeCost(X, y, theta)\n",
        "    costs.append(cost)\n",
        "    for j in range(n):\n",
        "      temp = 0\n",
        "      for i in range(m):\n",
        "        temp += ((h[i] - y[i]) * X[i][j])\n",
        "      theta[j] = theta[j] - alpha * (1 / m) * temp\n",
        "\n",
        "## append last iter \n",
        "  costs.append(computeCost(X, y, theta))\n",
        "\n",
        "  return theta, costs"
      ],
      "metadata": {
        "id": "tRDCNtGq03zF"
      },
      "execution_count": 39,
      "outputs": []
    },
    {
      "cell_type": "code",
      "source": [
        "## test -> Gradient Descent\n",
        "theta = np.zeros(2)\n",
        "alpha = 0.01\n",
        "iters = 1500\n",
        "\n",
        "theta, costs = gradientDescent(X, y, theta, alpha, iters)\n",
        "\n",
        "print(\"After 1500 iters, theta is {:.4f}, {:.4f}\".format(*theta))\n"
      ],
      "metadata": {
        "colab": {
          "base_uri": "https://localhost:8080/"
        },
        "id": "GpAM-Exb5vGv",
        "outputId": "c0db7dac-9d6f-4f66-d257-e1cf941bfe65"
      },
      "execution_count": 40,
      "outputs": [
        {
          "output_type": "stream",
          "name": "stdout",
          "text": [
            "After 1500 iters, theta is -3.6303, 1.1664\n"
          ]
        }
      ]
    },
    {
      "cell_type": "code",
      "source": [
        "# plot the linear fit\n",
        "import matplotlib.pyplot as plt\n",
        "\n",
        "plt.scatter(X[:, 1], y)\n",
        "plt.plot(X[:, 1], np.dot(X, theta.transpose()), c = 'r')\n",
        "plt.legend([\"Training Data\", \"LR\"])\n"
      ],
      "metadata": {
        "colab": {
          "base_uri": "https://localhost:8080/",
          "height": 284
        },
        "id": "hqfiUW-E6vTK",
        "outputId": "62e9374d-3c33-44b6-83a3-2ab7855b085e"
      },
      "execution_count": 48,
      "outputs": [
        {
          "output_type": "execute_result",
          "data": {
            "text/plain": [
              "<matplotlib.legend.Legend at 0x7f4990186f10>"
            ]
          },
          "metadata": {},
          "execution_count": 48
        },
        {
          "output_type": "display_data",
          "data": {
            "text/plain": [
              "<Figure size 432x288 with 1 Axes>"
            ],
            "image/png": "[encoded data removed]"
          },
          "metadata": {
            "needs_background": "light"
          }
        }
      ]
    },
    {
      "cell_type": "code",
      "source": [
        "# plot cost curve\n",
        "plt.plot(X[:, 1], np.dot(X, theta.transpose()), c = 'r')\n",
        "plt.legend([\"Training Data\", \"LR\"])"
      ],
      "metadata": {
        "id": "_gu14hDL9lT6"
      },
      "execution_count": null,
      "outputs": []
    }
  ]
}