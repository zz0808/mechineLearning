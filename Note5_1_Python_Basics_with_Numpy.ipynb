{
  "nbformat": 4,
  "nbformat_minor": 0,
  "metadata": {
    "colab": {
      "name": "Note5_Python_Basics_with_Numpy.ipynb",
      "provenance": [],
      "collapsed_sections": []
    },
    "kernelspec": {
      "name": "python3",
      "display_name": "Python 3"
    },
    "language_info": {
      "name": "python"
    }
  },
  "cells": [
    {
      "cell_type": "code",
      "source": [
        "import numpy as np\n",
        "\n",
        "def sigmoid(x):\n",
        "  return 1 / (1 + np.exp(-x))\n",
        "\n",
        "# Sigmoid gradient\n",
        "def sigmoid_derivative(x):\n",
        "  a = sigmoid(x)\n",
        "  return a * (1 - a)\n",
        "\n",
        "x = np.array([1, 2, 3])\n",
        "print (\"sigmoid_derivative(x) = \" + str(sigmoid_derivative(x)))"
      ],
      "metadata": {
        "colab": {
          "base_uri": "https://localhost:8080/"
        },
        "id": "LJhfnWWuW7Dq",
        "outputId": "3c06ce2b-8774-436e-fe98-ea6c2c61cc43"
      },
      "execution_count": 1,
      "outputs": [
        {
          "output_type": "stream",
          "name": "stdout",
          "text": [
            "sigmoid_derivative(x) = [0.19661193 0.10499359 0.04517666]\n"
          ]
        }
      ]
    },
    {
      "cell_type": "code",
      "source": [
        "# Reshaping arrays\n",
        "def image2vector(image):\n",
        "  v = image.reshape(image.shape[0] + image.shape[1] + image.shape[2], 1)\n",
        "  return v"
      ],
      "metadata": {
        "id": "ZJgu6BsDZMyk"
      },
      "execution_count": null,
      "outputs": []
    },
    {
      "cell_type": "code",
      "source": [
        "# Normalizing rows\n",
        "# gradient descent converges faster after normalization\n",
        "def normalizeRows(x):\n",
        "  norms = np.linalg.norm(x, axis=1, keepdims=True)\n",
        "  return x / norms\n",
        "\n",
        "x = np.array([\n",
        "    [0, 3, 4],\n",
        "    [1, 6, 4]])\n",
        "print(\"normalizeRows(x) = \" + str(normalizeRows(x)))"
      ],
      "metadata": {
        "colab": {
          "base_uri": "https://localhost:8080/"
        },
        "id": "0UKkU5PJaU_e",
        "outputId": "10270038-9bc0-4245-afac-8d516b4cb8bf"
      },
      "execution_count": 4,
      "outputs": [
        {
          "output_type": "stream",
          "name": "stdout",
          "text": [
            "normalizeRows(x) = [[0.         0.6        0.8       ]\n",
            " [0.13736056 0.82416338 0.54944226]]\n"
          ]
        }
      ]
    },
    {
      "cell_type": "code",
      "source": [
        "# Broadcasting and the softmax function\n",
        "def softmax(x):\n",
        "  x_exp = np.exp(x)\n",
        "  x_sum = np.sum(x_exp, axis=1, keepdims=True)\n",
        "  return x_exp / x_sum\n",
        "\n",
        "x = np.array([\n",
        "    [9, 2, 5, 0, 0],\n",
        "    [7, 5, 0, 0 ,0]])\n",
        "print(\"softmax(x) = \" + str(softmax(x)))"
      ],
      "metadata": {
        "colab": {
          "base_uri": "https://localhost:8080/"
        },
        "id": "BqIvzbggbGqT",
        "outputId": "a7e79de8-145a-4448-abdb-1519179be437"
      },
      "execution_count": 6,
      "outputs": [
        {
          "output_type": "stream",
          "name": "stdout",
          "text": [
            "softmax(x) = [[9.80897665e-01 8.94462891e-04 1.79657674e-02 1.21052389e-04\n",
            "  1.21052389e-04]\n",
            " [8.78679856e-01 1.18916387e-01 8.01252314e-04 8.01252314e-04\n",
            "  8.01252314e-04]]\n"
          ]
        }
      ]
    },
    {
      "cell_type": "code",
      "source": [
        "# Implement the L1 and L2 loss functions\n",
        "def L1(yhat, y):\n",
        "  l1 = np.sum(np.abs(yhat - y))\n",
        "  return l1 \n",
        "\n",
        "yhat = np.array([.9, 0.2, 0.1, .4, .9])\n",
        "y = np.array([1, 0, 0, 1, 1])\n",
        "print(\"L1 = \" + str(L1(yhat,y)))\n",
        "\n",
        "def L2(yhat, y):\n",
        "  delta = yhat - y\n",
        "  return np.dot(delta, delta)\n",
        "\n",
        "print(\"L2 = \" + str(L2(yhat,y)))"
      ],
      "metadata": {
        "colab": {
          "base_uri": "https://localhost:8080/"
        },
        "id": "mGbJBDTCepsD",
        "outputId": "8808aa12-f6e5-4d81-eddc-009f8f6992f3"
      },
      "execution_count": 12,
      "outputs": [
        {
          "output_type": "stream",
          "name": "stdout",
          "text": [
            "L1 = 1.1\n",
            "(5,)\n",
            "L2 = 0.43\n"
          ]
        }
      ]
    }
  ]
}